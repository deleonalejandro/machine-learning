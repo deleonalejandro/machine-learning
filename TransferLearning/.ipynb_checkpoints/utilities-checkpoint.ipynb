{
 "cells": [
  {
   "cell_type": "code",
   "execution_count": 51,
   "id": "small-watershed",
   "metadata": {},
   "outputs": [],
   "source": [
    "# Libraries\n",
    "import csv\n",
    "import numpy as np\n"
   ]
  },
  {
   "cell_type": "code",
   "execution_count": 54,
   "id": "opening-intermediate",
   "metadata": {},
   "outputs": [],
   "source": [
    "def label_dataset(p_type, csv_path):\n",
    "    labels = []\n",
    "    line_count = 0\n",
    "    pokemon_list = read_csv(csv_path)\n",
    "    \n",
    "    for row in pokemon_list[1:]:\n",
    "        if p_type in row:\n",
    "            labels.append(1)\n",
    "        else:\n",
    "            labels.append(0)\n",
    "        #print(f'\\t{row[\"Name\"]} \\t {row[\"Type1\"]} \\t {row[\"Type2\"]}')\n",
    "        #print(labels[line_count])\n",
    "        line_count += 1   \n",
    "        \n",
    "    print(f'Processed {line_count} lines.')\n",
    "    \n",
    "    train_labels = np.array(labels)\n",
    "    \n",
    "    return train_labels\n",
    "\n",
    "def read_csv(path):\n",
    "    with open('pokemon_2.csv', mode='r') as csv_file:\n",
    "        csv_reader = csv.reader(csv_file)\n",
    "        sortedlist = sorted(csv_reader, key=lambda row: row[0], reverse=False)\n",
    "    return sortedlist\n",
    "    "
   ]
  }
 ],
 "metadata": {
  "kernelspec": {
   "display_name": "Python 3",
   "language": "python",
   "name": "python3"
  },
  "language_info": {
   "codemirror_mode": {
    "name": "ipython",
    "version": 3
   },
   "file_extension": ".py",
   "mimetype": "text/x-python",
   "name": "python",
   "nbconvert_exporter": "python",
   "pygments_lexer": "ipython3",
   "version": "3.8.8"
  }
 },
 "nbformat": 4,
 "nbformat_minor": 5
}
