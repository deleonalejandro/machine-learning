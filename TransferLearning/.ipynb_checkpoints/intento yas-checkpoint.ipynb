{
 "cells": [
  {
   "cell_type": "code",
   "execution_count": null,
   "id": "cardiovascular-terrorist",
   "metadata": {},
   "outputs": [],
   "source": [
    "training_images = training_images.reshape((27455,28,28,1))\n",
    "testing_images = testing_images.reshape((7172,28,28,1))\n",
    "\n",
    "# Create an ImageDataGenerator and do Image Augmentation\n",
    "training_datagen = ImageDataGenerator(\n",
    "      rescale = 1./255,\n",
    "      rotation_range=40,\n",
    "      width_shift_range=0.2,\n",
    "      height_shift_range=0.2,\n",
    "      shear_range=0.2,\n",
    "      zoom_range=0.2,\n",
    "      horizontal_flip=True,\n",
    "      fill_mode='nearest')\n",
    "\n",
    "validation_datagen = ImageDataGenerator(rescale = 1./255)\n",
    "\n",
    "training_datagen.fit(training_images)\n",
    "validation_datagen.fit(testing_images)\n",
    "\n",
    "testing_labels = tf.one_hot(testing_labels, 25)\n",
    "training_labels = tf.one_hot(training_labels, 25)\n",
    "\n",
    "history = model.fit_generator(training_datagen.flow(\n",
    "    training_images,\n",
    "    y = training_labels,\n",
    "    batch_size = 32\n",
    "), epochs=15, validation_data = validation_datagen.flow(\n",
    "    testing_images,\n",
    "    y = testing_labels,\n",
    "    batch_size = 32\n",
    "), verbose = 1)"
   ]
  },
  {
   "cell_type": "code",
   "execution_count": null,
   "id": "plain-delivery",
   "metadata": {},
   "outputs": [],
   "source": [
    "# Function to augmentate images and labels\n",
    "\n",
    "def augmentateData ():\n",
    "    \n",
    "    # Create an ImageDataGenerator and do Image Augmentation\n",
    "    training_datagen = ImageDataGenerator(\n",
    "          rescale = 1./255,\n",
    "          rotation_range=40,\n",
    "          width_shift_range=0.2,\n",
    "          height_shift_range=0.2,\n",
    "          shear_range=0.2,\n",
    "          zoom_range=0.2,\n",
    "          horizontal_flip=True,\n",
    "          fill_mode='nearest')\n",
    "    \n",
    "    validation_datagen = ImageDataGenerator(rescale = 1./255)\n",
    "    \n",
    "    training_datagen.fit(training_images)\n",
    "    validation_datagen.fit(testing_images)\n",
    "\n",
    "    testing_labels = tf.one_hot(testing_labels, 25)\n",
    "    training_labels = tf.one_hot(training_labels, 25)"
   ]
  }
 ],
 "metadata": {
  "kernelspec": {
   "display_name": "Python 3",
   "language": "python",
   "name": "python3"
  },
  "language_info": {
   "codemirror_mode": {
    "name": "ipython",
    "version": 3
   },
   "file_extension": ".py",
   "mimetype": "text/x-python",
   "name": "python",
   "nbconvert_exporter": "python",
   "pygments_lexer": "ipython3",
   "version": "3.7.3"
  }
 },
 "nbformat": 4,
 "nbformat_minor": 5
}
