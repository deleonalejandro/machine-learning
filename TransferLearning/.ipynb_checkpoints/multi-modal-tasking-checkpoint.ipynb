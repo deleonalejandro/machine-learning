{
 "cells": [
  {
   "cell_type": "markdown",
   "id": "located-stylus",
   "metadata": {},
   "source": [
    "# Transfer Learning\n",
    "## Multi-modal Multi-tasking\n",
    "\n",
    "Yasmin Femerling, Alejandro de Leon\n",
    "\n",
    "4/7/2021"
   ]
  },
  {
   "cell_type": "code",
   "execution_count": 1,
   "id": "adaptive-clone",
   "metadata": {},
   "outputs": [],
   "source": [
    "from ipynb.fs.full.utilities import *"
   ]
  },
  {
   "cell_type": "code",
   "execution_count": null,
   "id": "bronze-accounting",
   "metadata": {},
   "outputs": [],
   "source": [
    "x = label_dataset(\"Grass\", \"pokemon_2.csv\")\n",
    "print(x)"
   ]
  }
 ],
 "metadata": {
  "kernelspec": {
   "display_name": "Python 3",
   "language": "python",
   "name": "python3"
  },
  "language_info": {
   "codemirror_mode": {
    "name": "ipython",
    "version": 3
   },
   "file_extension": ".py",
   "mimetype": "text/x-python",
   "name": "python",
   "nbconvert_exporter": "python",
   "pygments_lexer": "ipython3",
   "version": "3.8.8"
  }
 },
 "nbformat": 4,
 "nbformat_minor": 5
}
