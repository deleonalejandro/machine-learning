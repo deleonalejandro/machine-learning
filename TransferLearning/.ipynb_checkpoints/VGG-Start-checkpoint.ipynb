{
 "cells": [
  {
   "cell_type": "code",
   "execution_count": null,
   "id": "faced-butterfly",
   "metadata": {},
   "outputs": [],
   "source": [
    "from tensorflow.keras.models import Model\n",
    "from tensorflow.keras.layers import BatchNormalization\n",
    "from tensorflow.keras.layers import Conv2D\n",
    "from tensorflow.keras.layers import MaxPooling2D\n",
    "from tensorflow.keras.layers import Activation\n",
    "from tensorflow.keras.layers import Dropout\n",
    "from tensorflow.keras.layers import Lambda\n",
    "from tensorflow.keras.layers import Dense\n",
    "from tensorflow.keras.layers import Flatten\n",
    "from tensorflow.keras.layers import Input\n",
    "import tensorflow as tf"
   ]
  },
  {
   "cell_type": "code",
   "execution_count": null,
   "id": "mobile-committee",
   "metadata": {},
   "outputs": [],
   "source": [
    "epochs = 30\n",
    "batch_size = 20\n",
    "def createHeadLayers(shape):\n",
    "    # setup params and where to save features\n",
    "    \n",
    "    # Build model\n",
    "    top_model = Sequential()\n",
    "    # flatten the output convolutions, some implementations also \n",
    "    #. perform an average pooling here to collapse the features down\n",
    "    top_model.add(Flatten(shape))\n",
    "    # add two fully connected layers and some dropout\n",
    "    top_model.add(Dense(256, activation='relu'))\n",
    "    top_model.add(Dropout(0.5))\n",
    "    top_model.add(Dense(1, activation='sigmoid'))\n",
    "    \n",
    "    return top_model"
   ]
  },
  {
   "cell_type": "code",
   "execution_count": null,
   "id": "ignored-singer",
   "metadata": {},
   "outputs": [],
   "source": [
    "def createMultiTaskModel(inputShape, tasks, input_feature_shape):\n",
    "    \n",
    "    # construct both heads\n",
    "    inputs = Input(shape=inputShape)\n",
    "    outputs = []\n",
    "    for(i = 1:len(tasks):\n",
    "        outputs = [outputs, createHeadLayers(input_feature_shape).output]\n",
    "        \n",
    "    model = Model(\n",
    "            inputs=inputs,\n",
    "            outputs=outputs,\n",
    "            name=\"pokemon\")\n",
    "        \n",
    "    return model"
   ]
  },
  {
   "cell_type": "code",
   "execution_count": null,
   "id": "billion-least",
   "metadata": {},
   "outputs": [],
   "source": [
    "EPOCHS = 30\n",
    "INIT_LR = 1e-3\n",
    "BS = 20\n",
    "\n",
    "# Load bottleneck features training\n",
    "train_data = np.load('../features/train.npy')\n",
    "input_shape=train_data.shape[1:]\n",
    "\n",
    "# Load bottleneck features validation\n",
    "validation_data = np.load('../features/validation.npy')\n",
    "\n",
    "\n",
    "opt = Adam(lr=INIT_LR, decay=INIT_LR / EPOCHS)\n",
    "model.compile(optimizer=opt, loss='binary_crossentropy', metrics=[\"accuracy\"])\n",
    "model.fit(train_data, train_labels,\n",
    "              epochs=EPOCHS,\n",
    "              batch_size=BS,\n",
    "              validation_data=(validation_data, validation_labels),\n",
    "              verbose=1)"
   ]
  }
 ],
 "metadata": {
  "kernelspec": {
   "display_name": "Python 3",
   "language": "python",
   "name": "python3"
  },
  "language_info": {
   "codemirror_mode": {
    "name": "ipython",
    "version": 3
   },
   "file_extension": ".py",
   "mimetype": "text/x-python",
   "name": "python",
   "nbconvert_exporter": "python",
   "pygments_lexer": "ipython3",
   "version": "3.7.3"
  }
 },
 "nbformat": 4,
 "nbformat_minor": 5
}
