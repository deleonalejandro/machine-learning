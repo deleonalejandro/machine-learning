{
 "cells": [
  {
   "cell_type": "code",
   "execution_count": 58,
   "id": "moral-processor",
   "metadata": {},
   "outputs": [],
   "source": [
    "# Libraries\n",
    "from tensorflow.keras.preprocessing.image import img_to_array\n",
    "from sklearn.preprocessing import LabelBinarizer\n",
    "from sklearn.model_selection import train_test_split\n",
    "from imutils import paths\n",
    "import matplotlib.pyplot as plt\n",
    "import argparse\n",
    "import random\n",
    "import pickle\n",
    "import cv2\n",
    "import os\n",
    "import csv\n",
    "import numpy as np\n"
   ]
  },
  {
   "cell_type": "code",
   "execution_count": 74,
   "id": "abandoned-entity",
   "metadata": {},
   "outputs": [],
   "source": [
    "def label_dataset(p_type, csv_path):\n",
    "    labels = []\n",
    "    line_count = 0\n",
    "    pokemon_list = read_csv(csv_path)\n",
    "    \n",
    "    for row in pokemon_list[1:]:\n",
    "        if p_type in row:\n",
    "            labels.append(1)\n",
    "        else:\n",
    "            labels.append(0)\n",
    "        #print(f'\\t{row[\"Name\"]} \\t {row[\"Type1\"]} \\t {row[\"Type2\"]}')\n",
    "        #print(labels[line_count])\n",
    "        line_count += 1   \n",
    "        \n",
    "    print(f'Processed {line_count} lines.')\n",
    "    \n",
    "    train_labels = np.array(labels)\n",
    "    \n",
    "    return train_labels\n",
    "\n",
    "def read_csv(path):\n",
    "    with open(path, mode='r') as csv_file:\n",
    "        csv_reader = csv.reader(csv_file)\n",
    "        sortedlist = sorted(csv_reader, key=lambda row: row[0], reverse=False)\n",
    "    return sortedlist\n",
    "\n",
    "def load_images(path, IMAGE_DIMS):\n",
    "    data = []\n",
    "    imagePaths = sorted(list(paths.list_images(path)))\n",
    "    #print(imagePaths)\n",
    "    \n",
    "    for imagePath in imagePaths:\n",
    "        # load the image, pre-process it, and store it in the data list\n",
    "        image = cv2.imread(imagePath)\n",
    "        image = cv2.resize(image, (IMAGE_DIMS[1], IMAGE_DIMS[0]))\n",
    "        image = cv2.cvtColor(image, cv2.COLOR_BGR2RGB)\n",
    "        image = img_to_array(image)\n",
    "        data.append(image)\n",
    "    #print(data)\n",
    "    return data\n",
    "\n",
    "        \n",
    "    "
   ]
  },
  {
   "cell_type": "code",
   "execution_count": 83,
   "id": "toxic-warehouse",
   "metadata": {},
   "outputs": [
    {
     "name": "stdout",
     "output_type": "stream",
     "text": [
      "Processed 809 lines.\n"
     ]
    }
   ],
   "source": []
  },
  {
   "cell_type": "code",
   "execution_count": 98,
   "id": "weekly-deficit",
   "metadata": {},
   "outputs": [
    {
     "name": "stdout",
     "output_type": "stream",
     "text": [
      "(647, 150, 150, 3)\n"
     ]
    },
    {
     "data": {
      "text/plain": [
       "<matplotlib.image.AxesImage at 0x18c6af7db50>"
      ]
     },
     "execution_count": 98,
     "metadata": {},
     "output_type": "execute_result"
    },
    {
     "data": {
      "image/png": "[encoded data removed]",
      "text/plain": [
       "<Figure size 432x288 with 1 Axes>"
      ]
     },
     "metadata": {
      "needs_background": "light"
     },
     "output_type": "display_data"
    }
   ],
   "source": []
  }
 ],
 "metadata": {
  "kernelspec": {
   "display_name": "Python 3",
   "language": "python",
   "name": "python3"
  },
  "language_info": {
   "codemirror_mode": {
    "name": "ipython",
    "version": 3
   },
   "file_extension": ".py",
   "mimetype": "text/x-python",
   "name": "python",
   "nbconvert_exporter": "python",
   "pygments_lexer": "ipython3",
   "version": "3.8.8"
  }
 },
 "nbformat": 4,
 "nbformat_minor": 5
}
