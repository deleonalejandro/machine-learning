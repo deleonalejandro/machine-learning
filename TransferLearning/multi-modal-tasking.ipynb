{
 "cells": [
  {
   "cell_type": "markdown",
   "id": "filled-working",
   "metadata": {},
   "source": [
    "# Transfer Learning\n",
    "## Multi-modal Multi-tasking\n",
    "\n",
    "Yasmin Femerling, Alejandro de Leon\n",
    "\n",
    "4/7/2021"
   ]
  },
  {
   "cell_type": "code",
   "execution_count": null,
<<<<<<< Updated upstream
   "id": "intense-hunter",
   "metadata": {},
   "outputs": [],
   "source": [
    "Holaaaa! :) "
=======
   "id": "wired-friend",
   "metadata": {},
   "outputs": [],
   "source": [
    ":):) "
>>>>>>> Stashed changes
   ]
  }
 ],
 "metadata": {
  "kernelspec": {
   "display_name": "Python 3",
   "language": "python",
   "name": "python3"
  },
  "language_info": {
   "codemirror_mode": {
    "name": "ipython",
    "version": 3
   },
   "file_extension": ".py",
   "mimetype": "text/x-python",
   "name": "python",
   "nbconvert_exporter": "python",
   "pygments_lexer": "ipython3",
   "version": "3.7.3"
  }
 },
 "nbformat": 4,
 "nbformat_minor": 5
}
