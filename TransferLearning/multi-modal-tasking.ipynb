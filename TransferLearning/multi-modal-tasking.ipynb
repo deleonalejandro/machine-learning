{
 "cells": [
  {
   "cell_type": "markdown",
   "id": "received-caution",
   "metadata": {},
   "source": [
    "# Transfer Learning\n",
    "## Multi-modal Multi-tasking\n",
    "\n",
    "Yasmin Femerling, Alejandro de Leon\n",
    "\n",
    "4/7/2021"
   ]
  },
  {
   "cell_type": "markdown",
   "id": "satisfied-column",
   "metadata": {},
   "source": [
    "For this lab, a dataset containing some of the Pokemon collection was chosen. The idea is to perform a multi-task classification to predict what types of pokemon a particular sample has. In this case, our practice is completely related to a multi-task classification, where multiple heads of our model are in charge of identifying a particular type, and making binary classification from a single pokemon image. The dataset consists of images from multiple pokemons and a csv file containing the name and 2 types for each pokemon. There are 18 types of Pokemons in our dataset, as described in the next list:\n",
    "\n",
    "- Normal\n",
    "- Fighting\n",
    "- Flying\n",
    "- Posion\n",
    "- Ground\n",
    "- Rock\n",
    "- Bug\n",
    "- Ghost\n",
    "- Steel\n",
    "- Fire\n",
    "- Water\n",
    "- Grass\n",
    "- Electric\n",
    "- Psychic\n",
    "- Ice\n",
    "- Dragon\n",
    "- Fairy\n",
    "- Dark\n",
    "\n",
    "According to the types, we can perform 18 different tasks to identify which are the possible classifications that could belong to a specific pokemon.\n"
   ]
  },
  {
   "cell_type": "code",
   "execution_count": 1,
   "id": "norman-victim",
   "metadata": {},
   "outputs": [],
   "source": [
    "from ipynb.fs.full.utilities import *"
   ]
  },
  {
   "cell_type": "code",
   "execution_count": null,
   "id": "different-color",
   "metadata": {},
   "outputs": [],
   "source": [
    "x = label_dataset(\"Grass\", \"pokemon_2.csv\")\n",
    "print(x)"
   ]
  }
 ],
 "metadata": {
  "kernelspec": {
   "display_name": "Python 3",
   "language": "python",
   "name": "python3"
  },
  "language_info": {
   "codemirror_mode": {
    "name": "ipython",
    "version": 3
   },
   "file_extension": ".py",
   "mimetype": "text/x-python",
   "name": "python",
   "nbconvert_exporter": "python",
   "pygments_lexer": "ipython3",
   "version": "3.8.8"
  }
 },
 "nbformat": 4,
 "nbformat_minor": 5
}
